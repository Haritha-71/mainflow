{
 "cells": [
  {
   "cell_type": "code",
   "execution_count": 1,
   "id": "262b20ab-c5a8-4a60-b8c4-9207727efb0e",
   "metadata": {},
   "outputs": [
    {
     "name": "stdout",
     "output_type": "stream",
     "text": [
      "updated_list: [12, 13, 21, 15, 16, 17, 18]\n"
     ]
    }
   ],
   "source": [
    "#creating a list\n",
    "created_list=[11,12,13,14,15,16,17]\n",
    "#adding element into the list\n",
    "created_list.append(18)\n",
    "#removing element from the list\n",
    "created_list.remove(11)\n",
    "#modifying the list\n",
    "created_list[2]=21\n",
    "print(\"updated_list:\",created_list)"
   ]
  },
  {
   "cell_type": "code",
   "execution_count": 2,
   "id": "1dd19646-e9ee-42be-9bd0-c76809e961af",
   "metadata": {},
   "outputs": [
    {
     "name": "stdout",
     "output_type": "stream",
     "text": [
      "updated_dictionary: {'name': 'divya', 'place': 'hyderabad', 'gender': 'female'}\n"
     ]
    }
   ],
   "source": [
    "#creating a dictionary\n",
    "dict_one={'name':'divya','age':'21','place':'hyderabad'}\n",
    "#adding element\n",
    "dict_one['gender']='female'\n",
    "#removing element from dictionary\n",
    "del dict_one['age']\n",
    "#modifying the dictionary\n",
    "dict_one['place']='hyderabad'\n",
    "print(\"updated_dictionary:\",dict_one)\n"
   ]
  },
  {
   "cell_type": "code",
   "execution_count": 3,
   "id": "32e231d3-1628-4909-8978-ab12fa6f65c5",
   "metadata": {},
   "outputs": [
    {
     "name": "stdout",
     "output_type": "stream",
     "text": [
      "updated_set: {16, 20, 11, 12, 13, 15}\n"
     ]
    }
   ],
   "source": [
    "#creating a set\n",
    "new_set={11,12,13,14,15}\n",
    "#adding element\n",
    "new_set.add(16)\n",
    "#removing element in a set\n",
    "new_set.remove(14)\n",
    "#modifying element in a set\n",
    "new_set.discard(1)\n",
    "new_set.add(20)\n",
    "print(\"updated_set:\",new_set)\n"
   ]
  },
  {
   "cell_type": "code",
   "execution_count": null,
   "id": "87bf2527-3353-44c6-98a5-d59c0e5b1fe3",
   "metadata": {},
   "outputs": [],
   "source": []
  }
 ],
 "metadata": {
  "kernelspec": {
   "display_name": "Python 3 (ipykernel)",
   "language": "python",
   "name": "python3"
  },
  "language_info": {
   "codemirror_mode": {
    "name": "ipython",
    "version": 3
   },
   "file_extension": ".py",
   "mimetype": "text/x-python",
   "name": "python",
   "nbconvert_exporter": "python",
   "pygments_lexer": "ipython3",
   "version": "3.12.4"
  }
 },
 "nbformat": 4,
 "nbformat_minor": 5
}
